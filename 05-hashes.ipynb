{
 "cells": [
  {
   "cell_type": "code",
   "execution_count": 2,
   "metadata": {},
   "outputs": [
    {
     "name": "stdout",
     "output_type": "stream",
     "text": [
      "{'Python': 50, 'js': 40, 'java': 60}\n",
      "60\n"
     ]
    }
   ],
   "source": [
    "# hash is o(1) in getting data\n",
    "# it use array to allocate data to specific index\n",
    "# in hash keys should be unique and immutable and not ordered\n",
    "\n",
    "book = dict()\n",
    "\n",
    "book[\"Python\"] = 50\n",
    "book[\"js\"] = 40\n",
    "book[\"java\"] = 60\n",
    "\n",
    "print(book)\n",
    "print(book[\"java\"])\n"
   ]
  },
  {
   "cell_type": "markdown",
   "metadata": {},
   "source": [
    "# Use Cases \n",
    "- use hash in Phone Numbers\n",
    "- converting domain name to ip\n",
    "- preventing duplicate in voting system\n",
    "     - if name in hash is voted no  not voted\n",
    "- to save data in cashing (cahsing home , about, contact pages)"
   ]
  },
  {
   "cell_type": "code",
   "execution_count": 9,
   "metadata": {},
   "outputs": [
    {
     "name": "stdout",
     "output_type": "stream",
     "text": [
      "Vote for this person\n",
      "{'nader': True}\n",
      "Vote for this person\n",
      "{'nader': True, 'omar': True}\n",
      "Kick him out\n",
      "{'nader': True, 'omar': True}\n"
     ]
    }
   ],
   "source": [
    "# preventing duplicate in voting system\n",
    "vote = {}\n",
    "def check_voting(name:str):\n",
    "    if vote.get(name):\n",
    "        print(\"Kick him out\")\n",
    "    else:\n",
    "        print(\"Vote for this person\")\n",
    "        vote[name] = True\n",
    "    \n",
    "    return vote\n",
    "\n",
    "print(check_voting(\"nader\"))\n",
    "print(check_voting(\"omar\"))\n",
    "print(check_voting(\"nader\"))\n"
   ]
  },
  {
   "cell_type": "code",
   "execution_count": null,
   "metadata": {},
   "outputs": [],
   "source": [
    "cache = {}\n",
    "def get_data_from_server(url:str):\n",
    "    print (f\"get {url} from server\")\n",
    "def get_cached(url:str):\n",
    "    if cache.get(url):\n",
    "        return cache[url]\n",
    "    else:\n",
    "        get_data_from_server(url)\n",
    "        cache[url]= url\n",
    "        return cache[url]\n",
    "        "
   ]
  }
 ],
 "metadata": {
  "kernelspec": {
   "display_name": "Python 3",
   "language": "python",
   "name": "python3"
  },
  "language_info": {
   "codemirror_mode": {
    "name": "ipython",
    "version": 3
   },
   "file_extension": ".py",
   "mimetype": "text/x-python",
   "name": "python",
   "nbconvert_exporter": "python",
   "pygments_lexer": "ipython3",
   "version": "3.11.4"
  },
  "orig_nbformat": 4
 },
 "nbformat": 4,
 "nbformat_minor": 2
}
