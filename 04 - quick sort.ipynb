{
 "cells": [
  {
   "cell_type": "code",
   "execution_count": 10,
   "metadata": {},
   "outputs": [],
   "source": [
    "import time"
   ]
  },
  {
   "cell_type": "code",
   "execution_count": 33,
   "metadata": {},
   "outputs": [
    {
     "name": "stdout",
     "output_type": "stream",
     "text": [
      "15\n",
      "0.005223512649536133\n"
     ]
    }
   ],
   "source": [
    "# start with base case \n",
    "# sum recursive function \n",
    "# divide and conquer technique D&C\n",
    "\"\"\"\n",
    "[1,2,3,4,5]---->1 + [2,3,4,5]\n",
    "1+2+[3,4,5]\n",
    "3+3+[4,5]\n",
    "6+4[5]\n",
    "10+5+[]---->15\n",
    "\"\"\"\n",
    "def recursive_sum(mylist):\n",
    "    if len(mylist) == 0 :\n",
    "        total = 0\n",
    "    else:\n",
    "        total = mylist[0] + recursive_sum(mylist[1:])\n",
    "    return total\n",
    "started_time = time.time()  \n",
    "total = recursive_sum([1,2,3,4,5])\n",
    "print(total)\n",
    "print( time.time() - started_time)\n"
   ]
  },
  {
   "cell_type": "code",
   "execution_count": 19,
   "metadata": {},
   "outputs": [
    {
     "name": "stdout",
     "output_type": "stream",
     "text": [
      "0.00023317337036132812\n"
     ]
    }
   ],
   "source": [
    "def sum_num(mylist):\n",
    "    if len(mylist) == 0 :\n",
    "        total = 0\n",
    "    for i in mylist:\n",
    "        total += total\n",
    "    return total\n",
    "     \n",
    "started_time = time.time()  \n",
    "recursive_sum([1,2,3])\n",
    "print( time.time() - started_time)   "
   ]
  },
  {
   "cell_type": "code",
   "execution_count": 29,
   "metadata": {},
   "outputs": [
    {
     "data": {
      "text/plain": [
       "4"
      ]
     },
     "execution_count": 29,
     "metadata": {},
     "output_type": "execute_result"
    }
   ],
   "source": [
    "# recursive function to count list elements\n",
    "def count_recursive(mylist):\n",
    "    if len(mylist) == 0 :\n",
    "        count = 0\n",
    "    else :\n",
    "        count = 1 + count_recursive(mylist[1:])\n",
    "    return count\n",
    "\n",
    "count_recursive([1,2,3,4])"
   ]
  },
  {
   "cell_type": "markdown",
   "metadata": {},
   "source": [
    "- [7,5,10,4,8,9,6,3]\n",
    "- [5,4,6,3][7][10,8,9]\n",
    "- [4,3][5][6][7][8,9][10]\n",
    "- [3][4][5][6][7][8,9][10]"
   ]
  },
  {
   "cell_type": "code",
   "execution_count": 40,
   "metadata": {},
   "outputs": [
    {
     "data": {
      "text/plain": [
       "[2, 3, 4, 8, 9, 10, 15, 16, 50, 80, 100]"
      ]
     },
     "execution_count": 40,
     "metadata": {},
     "output_type": "execute_result"
    }
   ],
   "source": [
    "\"\"\"\n",
    "random choice to convert from \n",
    "o(n2) to (nlogn) in the worst case\n",
    "if the first number is the smallest num \n",
    "and all number after it is sorted \n",
    "\"\"\"\n",
    "import random\n",
    "\n",
    "def quick_sort(array:list):\n",
    "    if len(array) < 2 :\n",
    "        return array\n",
    "    else :\n",
    "        # pivot = array[0]\n",
    "        pivot = random.choice(array)\n",
    "        less  = [i for i in array if i < pivot]\n",
    "        greater = [i for i in array if i > pivot]\n",
    "    return quick_sort(less) + [pivot] + quick_sort(greater)\n",
    "\n",
    "# quick_sort([5,2,4,3,5])\n",
    "quick_sort([3,2])\n",
    "quick_sort([3,2,15,8,9,50,80,100,10,4,16])\n",
    "    "
   ]
  }
 ],
 "metadata": {
  "kernelspec": {
   "display_name": "Python 3",
   "language": "python",
   "name": "python3"
  },
  "language_info": {
   "codemirror_mode": {
    "name": "ipython",
    "version": 3
   },
   "file_extension": ".py",
   "mimetype": "text/x-python",
   "name": "python",
   "nbconvert_exporter": "python",
   "pygments_lexer": "ipython3",
   "version": "3.11.4"
  },
  "orig_nbformat": 4
 },
 "nbformat": 4,
 "nbformat_minor": 2
}
