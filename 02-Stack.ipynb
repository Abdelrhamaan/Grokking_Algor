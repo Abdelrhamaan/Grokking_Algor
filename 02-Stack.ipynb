{
 "cells": [
  {
   "cell_type": "code",
   "execution_count": 2,
   "metadata": {},
   "outputs": [
    {
     "name": "stdout",
     "output_type": "stream",
     "text": [
      "Hello abdelrhman\n",
      "How re you abdelrhman ?\n",
      "are you ready to say bye\n",
      "ok bye !\n"
     ]
    }
   ],
   "source": [
    "def greet(name):\n",
    "    print (f\"Hello {name}\")\n",
    "    greet2(name)\n",
    "    print (\"are you ready to say bye\")\n",
    "    bye()\n",
    "    \n",
    "\n",
    "def greet2(name):\n",
    "    print(f\"How re you {name} ?\")\n",
    "    \n",
    "def bye():\n",
    "    print(\"ok bye !\")\n",
    "    \n",
    "    \n",
    "greet(\"abdelrhman\")"
   ]
  },
  {
   "cell_type": "code",
   "execution_count": 3,
   "metadata": {},
   "outputs": [
    {
     "data": {
      "text/plain": [
       "120"
      ]
     },
     "execution_count": 3,
     "metadata": {},
     "output_type": "execute_result"
    }
   ],
   "source": [
    "def fac(x):\n",
    "    if x == 1:\n",
    "        return 1\n",
    "    else:\n",
    "        return (x*fac(x-1))\n",
    "    \n",
    "fac(5)"
   ]
  }
 ],
 "metadata": {
  "kernelspec": {
   "display_name": "Python 3",
   "language": "python",
   "name": "python3"
  },
  "language_info": {
   "codemirror_mode": {
    "name": "ipython",
    "version": 3
   },
   "file_extension": ".py",
   "mimetype": "text/x-python",
   "name": "python",
   "nbconvert_exporter": "python",
   "pygments_lexer": "ipython3",
   "version": "3.11.4"
  },
  "orig_nbformat": 4
 },
 "nbformat": 4,
 "nbformat_minor": 2
}
