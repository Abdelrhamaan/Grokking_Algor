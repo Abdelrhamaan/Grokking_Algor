{
 "cells": [
  {
   "cell_type": "code",
   "execution_count": 18,
   "metadata": {},
   "outputs": [
    {
     "data": {
      "text/plain": [
       "{'you': ['alice', 'bob', 'claire'],\n",
       " 'bob': ['angu', 'begyy'],\n",
       " 'claire': ['thom', 'jonny'],\n",
       " 'alice': ['begyy'],\n",
       " 'angu': [],\n",
       " 'begyy': [],\n",
       " 'jonny': [],\n",
       " 'thom': []}"
      ]
     },
     "execution_count": 18,
     "metadata": {},
     "output_type": "execute_result"
    }
   ],
   "source": [
    "graph = {}\n",
    "graph[\"you\"] = [\"alice\", \"bob\", \"claire\"]\n",
    "graph[\"bob\"] = [\"angu\", \"begyy\"]\n",
    "graph[\"claire\"] = [\"thom\", \"jonny\"]\n",
    "graph[\"alice\"] = [\"begyy\"]\n",
    "graph[\"angu\"] = []\n",
    "graph[\"begyy\"] = []\n",
    "graph[\"jonny\"] = []\n",
    "graph[\"thom\"] = []\n",
    "graph"
   ]
  },
  {
   "cell_type": "code",
   "execution_count": 9,
   "metadata": {},
   "outputs": [
    {
     "name": "stdout",
     "output_type": "stream",
     "text": [
      "True\n",
      "False\n"
     ]
    }
   ],
   "source": [
    "def person_is_seller(name):\n",
    "    return name[-1] == \"m\"\n",
    "\n",
    "print(person_is_seller(\"karim\"))\n",
    "print(person_is_seller(\"ali\"))"
   ]
  },
  {
   "cell_type": "code",
   "execution_count": 19,
   "metadata": {},
   "outputs": [
    {
     "name": "stdout",
     "output_type": "stream",
     "text": [
      "thom is mango seller\n"
     ]
    },
    {
     "data": {
      "text/plain": [
       "True"
      ]
     },
     "execution_count": 19,
     "metadata": {},
     "output_type": "execute_result"
    }
   ],
   "source": [
    "from collections import deque\n",
    "\n",
    "def person_is_seller(name):\n",
    "    return name[-1] == \"m\"\n",
    "\n",
    "def search (name):\n",
    "    search_qeue = deque()\n",
    "    search_qeue += graph[name]\n",
    "    searched = []\n",
    "    while search_qeue :\n",
    "        person = search_qeue.popleft()\n",
    "        if person not in searched:\n",
    "            if person_is_seller(person):\n",
    "                print (f\"{person} is mango seller\")\n",
    "                return True\n",
    "            else :\n",
    "                search_qeue += graph[person]\n",
    "                searched.append(person)\n",
    "    print(\"There is no mango seller in your network\")\n",
    "    return False \n",
    "    \n",
    "    \n",
    "search(\"you\")    \n",
    "            \n",
    "    "
   ]
  }
 ],
 "metadata": {
  "kernelspec": {
   "display_name": "Python 3",
   "language": "python",
   "name": "python3"
  },
  "language_info": {
   "codemirror_mode": {
    "name": "ipython",
    "version": 3
   },
   "file_extension": ".py",
   "mimetype": "text/x-python",
   "name": "python",
   "nbconvert_exporter": "python",
   "pygments_lexer": "ipython3",
   "version": "3.11.4"
  },
  "orig_nbformat": 4
 },
 "nbformat": 4,
 "nbformat_minor": 2
}
