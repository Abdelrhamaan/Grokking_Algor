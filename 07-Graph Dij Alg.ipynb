{
 "cells": [
  {
   "cell_type": "code",
   "execution_count": 11,
   "metadata": {},
   "outputs": [
    {
     "name": "stdout",
     "output_type": "stream",
     "text": [
      "a and its cost : 5\n",
      "b and its cost : 2\n",
      "fin and its cost : 6\n",
      "fin:start->b->a->fin\n"
     ]
    }
   ],
   "source": [
    "# first table for parents called graph\n",
    "# each row contain it's neighbors\n",
    "# start ----> a and b \n",
    "# a ----> fin \n",
    "# b ----> a and fin \n",
    "graph = {}\n",
    "graph[\"start\"] = {}\n",
    "graph[\"start\"][\"a\"] = 6\n",
    "graph[\"start\"][\"b\"] = 2 \n",
    "graph[\"a\"] = {}\n",
    "graph[\"a\"][\"fin\"] = 1\n",
    "graph[\"b\"] = {}\n",
    "graph[\"b\"][\"a\"] = 3 \n",
    "graph[\"b\"][\"fin\"] = 5\n",
    "graph[\"fin\"] = {}\n",
    "# -----------------------------------\n",
    "# second table for costs or min called costs \n",
    "# it have the cost just for only node \n",
    "# any node i dont now its cost but it with == inf \n",
    "infinity = float(\"inf\")\n",
    "costs = {}\n",
    "costs[\"a\"] = 6\n",
    "costs[\"b\"] = 2\n",
    "costs[\"fin\"] = infinity\n",
    "# -------------------------------------\n",
    "# third table for parents (prev_nodes)\n",
    "# just for first nodes and i will update it according to min cost\n",
    "parents ={} \n",
    "parents['a'] = 'start' # parent of 'a' is \"start\"\n",
    "parents['b'] = 'start'#parent of 'b'is also \"start\"\n",
    "parents['fin'] = None   ## no one has this key so we set None as value\n",
    "# -------------------------------------\n",
    "# def processed to track every node that already processed\n",
    "processed = []\n",
    "# -------------------------------------\n",
    "# func for calc. lowest cost node\n",
    "def find_lowest_cost_node(costs):\n",
    "    lowest_cost = float(infinity)\n",
    "    lowest_cost_node = None\n",
    "    for node in costs:\n",
    "        cost = costs[node]\n",
    "        if cost < lowest_cost and node not in processed:\n",
    "            lowest_cost = cost\n",
    "            lowest_cost_node = node \n",
    "    return lowest_cost_node\n",
    "# ---------------------------------------\n",
    "# implementing of Dij Alg\n",
    "node = find_lowest_cost_node(costs)\n",
    "while node is not None :\n",
    "    cost = costs[node]\n",
    "    neighbors = graph[node]\n",
    "    for n in neighbors.keys():\n",
    "        new_cost = cost + neighbors[n]\n",
    "        if costs[n] > new_cost:# check if there are better path\n",
    "            costs[n] = new_cost\n",
    "            parents[n] = node\n",
    "    processed.append(node)\n",
    "    node = find_lowest_cost_node(costs)\n",
    "    \n",
    "# min cost to reach each node from the start \n",
    "for node, cost in costs.items():\n",
    "    print(f\"{node} and its cost : {cost}\")   \n",
    "\n",
    "# shortest path from start to each node\n",
    "for node, parent in parents.items():\n",
    "    path = [node]\n",
    "    while parent:\n",
    "        path.append(parent)\n",
    "        parent = parents.get(parent)\n",
    "    path.reverse()\n",
    "\n",
    "print(f\"{node}:{'->'.join(path)}\")\n",
    "\n",
    "# "
   ]
  },
  {
   "cell_type": "code",
   "execution_count": 3,
   "metadata": {},
   "outputs": [
    {
     "data": {
      "text/plain": [
       "float"
      ]
     },
     "execution_count": 3,
     "metadata": {},
     "output_type": "execute_result"
    }
   ],
   "source": [
    "type(float(\"inf\"))"
   ]
  }
 ],
 "metadata": {
  "kernelspec": {
   "display_name": "Python 3",
   "language": "python",
   "name": "python3"
  },
  "language_info": {
   "codemirror_mode": {
    "name": "ipython",
    "version": 3
   },
   "file_extension": ".py",
   "mimetype": "text/x-python",
   "name": "python",
   "nbconvert_exporter": "python",
   "pygments_lexer": "ipython3",
   "version": "3.11.4"
  },
  "orig_nbformat": 4
 },
 "nbformat": 4,
 "nbformat_minor": 2
}
